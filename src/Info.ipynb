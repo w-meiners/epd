{
 "cells": [
  {
   "cell_type": "markdown",
   "metadata": {
    "slideshow": {
     "slide_type": "slide"
    }
   },
   "source": [
    "# Info zum Notebook \"Einführung_pandas_DataFrame.ipynb\""
   ]
  },
  {
   "cell_type": "markdown",
   "metadata": {
    "slideshow": {
     "slide_type": "fragment"
    }
   },
   "source": [
    "- Pandas DataFrames können Tabellen in Jupyter Notebooks darstellen"
   ]
  },
  {
   "cell_type": "markdown",
   "metadata": {
    "slideshow": {
     "slide_type": "fragment"
    }
   },
   "source": [
    "- Dazu muss `pandas` importiert werden"
   ]
  },
  {
   "cell_type": "markdown",
   "metadata": {
    "slideshow": {
     "slide_type": "fragment"
    }
   },
   "source": [
    "- Oft wird auch `numpy` (numerical python) gebraucht\n",
    "\n",
    "  ... und muss dann importiert werden"
   ]
  },
  {
   "cell_type": "markdown",
   "metadata": {
    "slideshow": {
     "slide_type": "slide"
    }
   },
   "source": [
    "- Das Notebook\n",
    "\n",
    "  **Einführung_pandas_DataFrame.ipynb**\n",
    "    \n",
    "  enthält Infos und Beispiele, wie mit `pandas`gearbeitet wird."
   ]
  },
  {
   "cell_type": "markdown",
   "metadata": {
    "slideshow": {
     "slide_type": "fragment"
    }
   },
   "source": [
    "- Das Arbeitsblatt enthält Hinweise\n",
    "\n",
    "  - wie das Notebook bearbeitet werden soll\n",
    "  - in welchen Arbeitsformen Sie sich zusammenfinden sollen"
   ]
  },
  {
   "cell_type": "markdown",
   "metadata": {
    "slideshow": {
     "slide_type": "subslide"
    }
   },
   "source": [
    "- Ziel ist es,\n",
    "  \n",
    "  - Ihnen die Eigenständige Bearbeitung der Notebooks zu ermöglichen\n",
    "  - Einen *Spicker* zu erstellen, der beim arbeiten mit `pandas` hilft."
   ]
  },
  {
   "cell_type": "markdown",
   "metadata": {
    "slideshow": {
     "slide_type": "fragment"
    }
   },
   "source": [
    "- Daneben bekommen Sie Notebooks mit Lösungsvorschlägen für Ihre Arbeit."
   ]
  }
 ],
 "metadata": {
  "celltoolbar": "Slideshow",
  "kernelspec": {
   "display_name": "Python 3",
   "language": "python",
   "name": "python3"
  },
  "language_info": {
   "codemirror_mode": {
    "name": "ipython",
    "version": 3
   },
   "file_extension": ".py",
   "mimetype": "text/x-python",
   "name": "python",
   "nbconvert_exporter": "python",
   "pygments_lexer": "ipython3",
   "version": "3.7.2"
  },
  "rise": {
   "autolaunch": true
  }
 },
 "nbformat": 4,
 "nbformat_minor": 2
}
