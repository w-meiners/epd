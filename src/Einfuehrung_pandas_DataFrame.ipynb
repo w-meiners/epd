{
 "cells": [
  {
   "cell_type": "markdown",
   "metadata": {},
   "source": [
    "# Pandas - Tabellen in Jupyter Notebooks"
   ]
  },
  {
   "cell_type": "markdown",
   "metadata": {},
   "source": [
    "Pandas stellt eine Möglichkeit zur Verfügung, in Jupyter Notebooks mit Tabellen zu arbeiten.\n",
    "Tabellen treten in technischen Berechnungen sehr häufig auf. Daher ist es sinnvoll, diesen Einsatz in Jupyter Notebooks zu kennen."
   ]
  },
  {
   "cell_type": "markdown",
   "metadata": {},
   "source": [
    "## Voraussetzungen"
   ]
  },
  {
   "cell_type": "markdown",
   "metadata": {},
   "source": [
    "Um `pandas` nutzen zu können, muss das Modul importiert werden. Das kann an jeder beliebigen Stelle im Notebook erfolgen. Häufig wird es zu Beginn importiert. Es ist üblich, für pandas den abgekürzten Namen pd zu verwenden:"
   ]
  },
  {
   "cell_type": "code",
   "execution_count": null,
   "metadata": {},
   "outputs": [],
   "source": [
    "# Import von pandas unter dem Namen pd\n",
    "import pandas as pd"
   ]
  },
  {
   "cell_type": "markdown",
   "metadata": {},
   "source": [
    "Neben `pandas` wird häufig noch `numpy` benötigt. Dieses Modul enthält Objekte, mit denen numerische Berechnungen einfach durchführbar sind."
   ]
  },
  {
   "cell_type": "code",
   "execution_count": null,
   "metadata": {},
   "outputs": [],
   "source": [
    "# import des Moduls numpy\n",
    "import numpy as np"
   ]
  },
  {
   "cell_type": "markdown",
   "metadata": {},
   "source": [
    "Das folgende YouTube Video zeigt, wie man mit pandas DataFrames Zeilen und Spalten auswählen kann. Sollte die Internetverbindung hier im Klassenraum zu schlecht sein, können Sie das Video auch zuhause anschauen."
   ]
  },
  {
   "cell_type": "code",
   "execution_count": null,
   "metadata": {},
   "outputs": [],
   "source": [
    "from IPython.display import YouTubeVideo\n",
    "\n",
    "YouTubeVideo('iaziBEhdyRk')"
   ]
  },
  {
   "cell_type": "markdown",
   "metadata": {},
   "source": [
    "Einen Überblick über `pandas` und `numpy` kann man sich mit dem Befehl `help` verschaffen. Die Information ist in englischer Sprache verfügbar:"
   ]
  },
  {
   "cell_type": "code",
   "execution_count": null,
   "metadata": {},
   "outputs": [],
   "source": [
    "# Um die Hilfe zu sehen, den # vor der nächsten Zeile entfernen:\n",
    "#help(pd)\n",
    "#help(np)"
   ]
  },
  {
   "cell_type": "markdown",
   "metadata": {},
   "source": [
    "In Pandas werden zwei Objekte bereitgestellt, die häufig benutzt werden. Das sind zum einen das \n",
    "\n",
    "    pd.Series()-Objekt, \n",
    "    \n",
    "zum anderen das \n",
    "\n",
    "    pd.DataFrame()-Objekt"
   ]
  },
  {
   "cell_type": "markdown",
   "metadata": {},
   "source": [
    "## Anlegen von DataFrames"
   ]
  },
  {
   "cell_type": "markdown",
   "metadata": {},
   "source": [
    "Mit Hilfe von `pd.DataFrame()` lassen sich unter Jupyter Notebooks einfach Tabellen darstellen. \n",
    "\n",
    "Tabellen sind dabei spaltenweise aufgebaut. Als Beispiel soll eine Tabelle mit zwei Spalten und drei Zeilen angelegt werden. Beachten Sie den Einsatz von Runden Klammern und von geschweiften Klammern.\n",
    "\n",
    "Die runden Klammern werden benötigt, um Argumente an `pd.DataFrame` zu übergeben. Die geschweiften Klammern `{...}` definieren ein sogenanntes Wörterbuch (dictionary, `dict`). In einem Wörterbuch werden Schlüssel und Werte in der Form `{key: value, ...}` zusammengestellt."
   ]
  },
  {
   "cell_type": "code",
   "execution_count": null,
   "metadata": {},
   "outputs": [],
   "source": [
    "df = pd.DataFrame(\n",
    "    {\n",
    "        'Spalte 1': [1,2,3],\n",
    "        'Spalte 2': [4,5,6]\n",
    "    }\n",
    ")\n",
    "\n",
    "df"
   ]
  },
  {
   "cell_type": "markdown",
   "metadata": {},
   "source": [
    "Beachten Sie:\n",
    "- Die Indizes beginnen bei 0 zu zählen. Der letzte Index ist deshalb um 1 kleiner, als die Anzahl der Zeilen.\n",
    "- Der Dataframe wird spaltenweise angelegt.\n",
    "\n",
    "  Das erfolgt innerhalb geschweifter Klammern als `<Spaltenname>: <Liste>`\n",
    "  \n",
    "  \n",
    "- Die Namen der Spalten sind als `df.columns` abrufbar:"
   ]
  },
  {
   "cell_type": "code",
   "execution_count": null,
   "metadata": {},
   "outputs": [],
   "source": [
    "df.columns"
   ]
  },
  {
   "cell_type": "markdown",
   "metadata": {},
   "source": [
    "Soll eine einzelne Spalte eines DataFrame ausgegeben werden, so geschieht das über den Befehl\n",
    "\n",
    "`df[Spaltenname]`\n",
    "\n",
    "Meistens ist der Spaltenname ein String, z.B. `'Spalte 1'` . Dann schreibt man:"
   ]
  },
  {
   "cell_type": "code",
   "execution_count": null,
   "metadata": {},
   "outputs": [],
   "source": [
    "df['Spalte 1']"
   ]
  },
  {
   "cell_type": "markdown",
   "metadata": {},
   "source": [
    "### Aufgabe 1\n",
    "\n",
    "Erstellen Sie einen DataFrame `df_a1` mit 3 Spalten und vier Zeilen. Die Zeilen und Spalten sollen mit beliebigen Daten gefüllt werden."
   ]
  },
  {
   "cell_type": "code",
   "execution_count": null,
   "metadata": {},
   "outputs": [],
   "source": [
    "# Ihre Lösung beginnt hier."
   ]
  },
  {
   "cell_type": "markdown",
   "metadata": {},
   "source": [
    "### Aufgabe 2\n",
    "\n",
    "Geben Sie die erste und die letzte Spalte Ihres DataFrame aus."
   ]
  },
  {
   "cell_type": "code",
   "execution_count": null,
   "metadata": {},
   "outputs": [],
   "source": [
    "# Ihre Lösung beginnt hier."
   ]
  },
  {
   "cell_type": "markdown",
   "metadata": {},
   "source": [
    "## Ausgabe von Zeilen\n",
    "\n",
    "Häufig will man nicht die Spalten eines DataFrame ausgeben, sondern die Zeilen. Das gelingt am einfachsten über die Methode `DataFrame.loc[]`. Achten Sie auf die eckigen Klammern! Zum Beispiel wird die erste Zeile (Index 0) mit\n",
    "\n",
    "`df_a1.loc[0]`\n",
    "\n",
    "ausgegeben."
   ]
  },
  {
   "cell_type": "markdown",
   "metadata": {},
   "source": [
    "### Aufgabe 3\n",
    "\n",
    "Geben Sie die mittleren beiden Zeilen Ihres DataFrame aus."
   ]
  },
  {
   "cell_type": "code",
   "execution_count": null,
   "metadata": {},
   "outputs": [],
   "source": [
    "# Ihre Lösung beginnt hier."
   ]
  },
  {
   "cell_type": "markdown",
   "metadata": {},
   "source": [
    "## Ausgabe als DataFrame\n",
    "Im Video wird gezeigt, wie Sie das Ergebnis auch als DataFrame ausgeben können. Die Lösung besteht darin, innerhalb von `.loc[]` eine Liste als Auswahl anzugeben. Dann wird automatisch ein DataFrame zurückgegeben."
   ]
  },
  {
   "cell_type": "code",
   "execution_count": null,
   "metadata": {},
   "outputs": [],
   "source": [
    "df.loc[[1,2]]"
   ]
  },
  {
   "cell_type": "code",
   "execution_count": null,
   "metadata": {},
   "outputs": [],
   "source": [
    "# oder, wenn man nur eine Zeile als Dataframe ausgeben will:\n",
    "df.loc[[1]]"
   ]
  },
  {
   "cell_type": "markdown",
   "metadata": {},
   "source": [
    "### Aufgabe 4\n",
    "Geben Sie die ersten drei Zeilen Ihres DataFrame als DataFrame aus."
   ]
  },
  {
   "cell_type": "code",
   "execution_count": null,
   "metadata": {},
   "outputs": [],
   "source": [
    "# Ihre Lösung beginnt hier."
   ]
  },
  {
   "cell_type": "markdown",
   "metadata": {},
   "source": [
    "## Beispiel: Berechnung von Lufvolumenströmen "
   ]
  },
  {
   "cell_type": "markdown",
   "metadata": {},
   "source": [
    "Das Erdgeschoss eines Reihenhauses hat die folgenden Räume: Eine Küche mit $12\\,m^2$, einen Flur mit $6.5\\,m^2$, ein Wohnzimmer mit $26.8\\,m^2$, ein WC mit $3.5\\,m^2$ sowie einen Abstellraum mit $4.2\\,m^2$."
   ]
  },
  {
   "cell_type": "code",
   "execution_count": null,
   "metadata": {},
   "outputs": [],
   "source": [
    "df_eg = pd.DataFrame(\n",
    "    {\n",
    "        'Raum': ['Küche', 'Flur', 'Wohnzimmer', 'WC', 'Abstellraum'],\n",
    "        'Fläche': [12.0, 6.5, 26.8, 3.5, 4.2]\n",
    "    }\n",
    ")\n",
    "\n",
    "df_eg"
   ]
  },
  {
   "cell_type": "markdown",
   "metadata": {},
   "source": [
    "### Aufgabe 5: \n",
    "\n",
    "Geben Sie die Spalte 'Raum' und die Spalte 'Fläche' jeweils als DataFrame in einer Zelle aus:"
   ]
  },
  {
   "cell_type": "code",
   "execution_count": null,
   "metadata": {},
   "outputs": [],
   "source": [
    "# Ihre Lösung beginnt hier."
   ]
  },
  {
   "cell_type": "markdown",
   "metadata": {},
   "source": [
    "### Aufgabe 6:\n",
    "\n",
    "Geben Sie aus, welche Fläche die Küche hat:"
   ]
  },
  {
   "cell_type": "code",
   "execution_count": null,
   "metadata": {},
   "outputs": [],
   "source": [
    "# Ihre Lösung beginnt hier."
   ]
  },
  {
   "cell_type": "markdown",
   "metadata": {},
   "source": [
    "## Arbeiten mit DataFrames"
   ]
  },
  {
   "cell_type": "markdown",
   "metadata": {},
   "source": [
    "Zur Orientierung wird noch einmal der DataFrame `df_eg` ausgegeben:"
   ]
  },
  {
   "cell_type": "code",
   "execution_count": null,
   "metadata": {},
   "outputs": [],
   "source": [
    "df_eg"
   ]
  },
  {
   "cell_type": "markdown",
   "metadata": {},
   "source": [
    "Zur Berechnung der Gesamtfläche wird die Spalte `df.Fläche` summiert:"
   ]
  },
  {
   "cell_type": "code",
   "execution_count": null,
   "metadata": {},
   "outputs": [],
   "source": [
    "A_ges = df_eg.Fläche.sum()\n",
    "A_ges"
   ]
  },
  {
   "cell_type": "markdown",
   "metadata": {},
   "source": [
    "Um die Flächenanteile zu berechnen, muss jede einzelne Fläche durch die Gesamtfläche dividiert werden:\n",
    "\n",
    "Häufig ist es sinnvoll, dazu den bestehenden DataFrame um eine neue Spalte zu ergänzen. Immer wenn ein DataFrame ergänzt wird, muss der Spaltenname über die eckigen Klammern geschrieben werden:"
   ]
  },
  {
   "cell_type": "code",
   "execution_count": null,
   "metadata": {},
   "outputs": [],
   "source": [
    "df_eg['Anteil'] = df_eg.Fläche/A_ges\n",
    "df_eg"
   ]
  },
  {
   "cell_type": "markdown",
   "metadata": {},
   "source": [
    "An den bestehenden DataFrame können auch völlig neue Spalten angehängt werden. Sollen zum Beispiel die Räume als Zu- oder Ablufträume kennzeichnen, so wird eine neue Spalte mit den entsprechenden Zuordnungen benötigt:"
   ]
  },
  {
   "cell_type": "code",
   "execution_count": null,
   "metadata": {},
   "outputs": [],
   "source": [
    "df_eg['Art'] = ['Ab','-','Zu','Ab','Ab']\n",
    "df_eg"
   ]
  },
  {
   "cell_type": "markdown",
   "metadata": {},
   "source": [
    "Manchmal ist es sinnvoll, eine Spalte zum Index zu machen:"
   ]
  },
  {
   "cell_type": "code",
   "execution_count": null,
   "metadata": {},
   "outputs": [],
   "source": [
    "df_eg.set_index('Raum')"
   ]
  },
  {
   "cell_type": "markdown",
   "metadata": {},
   "source": [
    "Damit ist zum Beispiel der Aufruf\n",
    "\n",
    "`df_eg.loc['Küche','Fläche']`\n",
    "\n",
    "möglich:"
   ]
  },
  {
   "cell_type": "code",
   "execution_count": null,
   "metadata": {},
   "outputs": [],
   "source": [
    "df_eg.set_index('Raum').loc['Küche','Fläche']"
   ]
  },
  {
   "cell_type": "code",
   "execution_count": null,
   "metadata": {},
   "outputs": [],
   "source": [
    "df_eg.set_index('Art').loc['Ab']"
   ]
  },
  {
   "cell_type": "markdown",
   "metadata": {},
   "source": [
    "Der Index wird nicht nur im Ergebnis der Operation gespeichert. Im DataFrame `df_eg` ist der Index nicht geändert worden. Um das zu erreichen, muss\n",
    "- entweder eine Neuzuweisung erfolgen,\n",
    "- oder der Parameter `inplace=True` gesetzt werden."
   ]
  },
  {
   "cell_type": "code",
   "execution_count": null,
   "metadata": {},
   "outputs": [],
   "source": [
    "df_eg"
   ]
  },
  {
   "cell_type": "markdown",
   "metadata": {},
   "source": [
    "Möchte man einen gesetzten Index wieder zurücksetzen, so geht das mit der Methode `.reset_index()`:"
   ]
  },
  {
   "cell_type": "code",
   "execution_count": null,
   "metadata": {},
   "outputs": [],
   "source": [
    "df_1 = df_eg.set_index('Art')\n",
    "df_1"
   ]
  },
  {
   "cell_type": "code",
   "execution_count": null,
   "metadata": {},
   "outputs": [],
   "source": [
    "df_1.loc['Ab']"
   ]
  },
  {
   "cell_type": "code",
   "execution_count": null,
   "metadata": {},
   "outputs": [],
   "source": [
    "df_1.reset_index(inplace=True)\n",
    "df_1"
   ]
  },
  {
   "cell_type": "markdown",
   "metadata": {},
   "source": [
    "### Aufgabe 7:\n",
    "\n",
    "Geben Sie mit Hilfe der Indizierung die Fläche des Wohnzimmers aus"
   ]
  },
  {
   "cell_type": "code",
   "execution_count": null,
   "metadata": {},
   "outputs": [],
   "source": [
    "# Ihre Lösung beginnt hier."
   ]
  },
  {
   "cell_type": "markdown",
   "metadata": {},
   "source": [
    "## Eine Kopie des DataFrame erzeugen:\n",
    "\n",
    "Schreibt man `df_1 = df_eq`, so wird im Normalfall keine Kopie des DataFrame angelegt, sondern ein sogenannter View. Wird `df_1` verändert, so ändert sich auch `df_eq`. Häufig möchte man das nicht. Dann legt man eine Kopie des DataFrames mit der Methode `.copy()` an:"
   ]
  },
  {
   "cell_type": "code",
   "execution_count": null,
   "metadata": {},
   "outputs": [],
   "source": [
    "df_eg_ab = df_eg[df_eg.Art=='Ab'].copy()\n",
    "df_eg_ab"
   ]
  },
  {
   "cell_type": "markdown",
   "metadata": {},
   "source": [
    "Mit der Kopie des DataFrame kann nun normal weitergearbeitet werden:"
   ]
  },
  {
   "cell_type": "code",
   "execution_count": null,
   "metadata": {},
   "outputs": [],
   "source": [
    "df_eg_ab['dV'] = [50, 25, 25]\n",
    "df_eg_ab"
   ]
  },
  {
   "cell_type": "markdown",
   "metadata": {},
   "source": [
    "Der gesamte Abluftvolumenstrom ist dann:"
   ]
  },
  {
   "cell_type": "code",
   "execution_count": null,
   "metadata": {},
   "outputs": [],
   "source": [
    "df_eg_ab.dV.sum()"
   ]
  },
  {
   "cell_type": "markdown",
   "metadata": {},
   "source": [
    "### Aufgabe 8\n",
    "\n",
    "Erstellen Sie ein neues Notebook, `Kontrollierte_Wohnungsbeluefung.ipynb`, in dem Sie das folgende Problem behandeln:\n",
    "\n",
    "Das Erdgeschoss der betrachteten Wohnung hat eine Küche ($12\\,m^2$), einen Flur ($6.5\\,m^2$), ein Wohnzimmer ($26.8\\,m^2$), ein WC ($3.5\\,m^2$) <br> und einen Abstellraum ($4.2\\,m^2$).\n",
    "\n",
    "Im Obergeschoss der betrachteten Wohnung gibt es ein Bad ($11.5\\,m^2$), ein Elternschlafzimmer ($13.25\\,m^2$), und zwei Kinderzimmer ($12.5\\,m^2$ und $11.25\\,m^2$). Der Flur hat eine Fläche von $4.5\\,m^2$.\n",
    "\n",
    "1. Erstellen Sie einen DataFrame für die gesamte Wohnung (z.B. `df`),<br>\n",
    "   und Kennzeichnen Sie Räume aus EG und OG sowie die Zu- und Ablufträume\n",
    "3. Berechnen Sie die Nutzfläche der Wohnung und den erforderlichen Zuluftvolumenstrom `dV_zu`.<br>\n",
    "   Die benötigte Formel lautet:\n",
    "   \n",
    "   $$\n",
    "     \\dot{V}_\\text{zu} = -0.001\\,A_\\text{N}^2 + 1.15\\,A_\\text{N} + 20\n",
    "   $$\n",
    "   \n",
    "   Mit $A_\\text{N}$: Nutzfläche der Wohneinheit in $m^2$, $\\dot{V}_\\text{zu}$: Volumenstrom in $\\frac{m^3}{h}$\n",
    "\n",
    "3. Erzeugen Sie einen DataFrame für die Ablufträume und ermitteln Sie den erforderlichen Abluftvolumenstrom.\n",
    "4. Geben sie den erforderlichen Gesamtvolumenstrom an und verteilen Sie Zu- und Abluft auf die Räume.\n"
   ]
  }
 ],
 "metadata": {
  "kernelspec": {
   "display_name": "Python 3",
   "language": "python",
   "name": "python3"
  },
  "language_info": {
   "codemirror_mode": {
    "name": "ipython",
    "version": 3
   },
   "file_extension": ".py",
   "mimetype": "text/x-python",
   "name": "python",
   "nbconvert_exporter": "python",
   "pygments_lexer": "ipython3",
   "version": "3.7.2"
  }
 },
 "nbformat": 4,
 "nbformat_minor": 2
}
